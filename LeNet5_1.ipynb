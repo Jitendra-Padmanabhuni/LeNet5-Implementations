{
 "cells": [
  {
   "cell_type": "markdown",
   "metadata": {
    "id": "zT52si9uBMcd"
   },
   "source": [
    "#### AI61002_Spr2023\n",
    "#### Tutorial 1: Training LeNet for for MNIST Classification"
   ]
  },
  {
   "cell_type": "code",
   "execution_count": 1,
   "metadata": {
    "id": "1JyAhPUwg5_r"
   },
   "outputs": [],
   "source": [
    "# import libaries\n",
    "%matplotlib inline\n",
    "import torch\n",
    "import torch.nn as nn\n",
    "import torch.nn.functional as F\n",
    "import numpy as np\n",
    "from torchvision import transforms,datasets\n",
    "import torch.optim as optim\n",
    "from torch.autograd import Variable\n",
    "import torchvision\n",
    "\n",
    "import matplotlib.pyplot as plt"
   ]
  },
  {
   "cell_type": "markdown",
   "metadata": {
    "id": "_T3rJUPDBMcq"
   },
   "source": [
    "#### Load data"
   ]
  },
  {
   "cell_type": "code",
   "execution_count": 2,
   "metadata": {
    "id": "jQOmc53jhLzr"
   },
   "outputs": [],
   "source": [
    "apply_transform = transforms.Compose([transforms.Resize(28), transforms.ToTensor()])\n",
    "BatchSize = 256 # change according to system specs\n",
    "\n",
    "\n",
    "\n",
    "trainset = datasets.MNIST(root='./MNIST', train=True, download=True, transform=apply_transform)\n",
    "trainLoader = torch.utils.data.DataLoader(trainset, batch_size=BatchSize,\n",
    "                                          shuffle=True, num_workers=1) # Creating dataloader\n",
    "\n",
    "\n",
    "testset = datasets.MNIST(root='./MNIST', train=False, download=True, transform=apply_transform)\n",
    "testLoader = torch.utils.data.DataLoader(testset, batch_size=BatchSize,\n",
    "                                         shuffle=False, num_workers=1) # Creating dataloader\n",
    "                                        "
   ]
  },
  {
   "cell_type": "code",
   "execution_count": 3,
   "metadata": {
    "id": "Vfft59iCkHXQ"
   },
   "outputs": [
    {
     "name": "stdout",
     "output_type": "stream",
     "text": [
      "No. of samples in train set: 60000\n",
      "No. of samples in test set: 10000\n"
     ]
    }
   ],
   "source": [
    "# Size of train and test datasets\n",
    "print('No. of samples in train set: '+str(len(trainLoader.dataset)))\n",
    "print('No. of samples in test set: '+str(len(testLoader.dataset)))\n"
   ]
  },
  {
   "cell_type": "code",
   "execution_count": 4,
   "metadata": {
    "id": "rvMjk-O7Fpxh"
   },
   "outputs": [
    {
     "data": {
      "text/plain": [
       "(torch.Size([1, 28, 28]), 5)"
      ]
     },
     "execution_count": 4,
     "metadata": {},
     "output_type": "execute_result"
    }
   ],
   "source": [
    "image, label2 = trainset[0]\n",
    "image.shape, label2"
   ]
  },
  {
   "cell_type": "code",
   "execution_count": 5,
   "metadata": {
    "id": "ss3UNAZpFtSM"
   },
   "outputs": [
    {
     "name": "stdout",
     "output_type": "stream",
     "text": [
      "Label:  5\n"
     ]
    },
    {
     "data": {
      "image/png": "[encoded data removed]",
      "text/plain": [
       "<Figure size 432x288 with 1 Axes>"
      ]
     },
     "metadata": {
      "needs_background": "light"
     },
     "output_type": "display_data"
    }
   ],
   "source": [
    "def show_img(img, label):\n",
    "    print('Label: ', label)\n",
    "    plt.imshow(torch.squeeze(img), cmap = 'gray')\n",
    "show_img(*trainset[0])"
   ]
  },
  {
   "cell_type": "markdown",
   "metadata": {
    "id": "2gshNzmvBMcy"
   },
   "source": [
    "#### Define model architecture"
   ]
  },
  {
   "cell_type": "code",
   "execution_count": 6,
   "metadata": {
    "id": "ykZ_LOB8kOTY"
   },
   "outputs": [],
   "source": [
    "class LeNet(nn.Module):\n",
    "    def __init__(self):\n",
    "        super(LeNet, self).__init__()\n",
    "        self.conv1 = nn.Conv2d(1, 6, kernel_size=1)\n",
    "        self.pool1 = nn.MaxPool2d(kernel_size=2,stride=2)\n",
    "        self.conv2 = nn.Conv2d(6, 16, kernel_size=5)\n",
    "        self.pool2 = nn.MaxPool2d(kernel_size=2,stride=2)        \n",
    "        self.fc1 = nn.Linear(400, 120)\n",
    "        self.fc2 = nn.Linear(120, 84)\n",
    "        self.fc3 = nn.Linear(84, 10)\n",
    "        self.relu = nn.ReLU()\n",
    "        self.logSoftmax = nn.LogSoftmax(dim=1)\n",
    "\n",
    "    def forward(self, x):\n",
    "        x = self.conv1(x)\n",
    "        x = self.relu(x)\n",
    "        x = self.pool1(x)\n",
    "        x = self.conv2(x)\n",
    "        x = self.relu(x)\n",
    "        x = self.pool2(x)\n",
    "        x = x.view(-1, 400)\n",
    "        x = self.fc1(x)\n",
    "        x = self.relu(x) \n",
    "        x = self.fc2(x)\n",
    "        x = self.relu(x)\n",
    "        x = self.fc3(x)\n",
    "        return self.logSoftmax(x)"
   ]
  },
  {
   "cell_type": "code",
   "execution_count": 7,
   "metadata": {
    "id": "WeVHHMKxBMc3"
   },
   "outputs": [
    {
     "name": "stdout",
     "output_type": "stream",
     "text": [
      "LeNet(\n",
      "  (conv1): Conv2d(1, 6, kernel_size=(1, 1), stride=(1, 1))\n",
      "  (pool1): MaxPool2d(kernel_size=2, stride=2, padding=0, dilation=1, ceil_mode=False)\n",
      "  (conv2): Conv2d(6, 16, kernel_size=(5, 5), stride=(1, 1))\n",
      "  (pool2): MaxPool2d(kernel_size=2, stride=2, padding=0, dilation=1, ceil_mode=False)\n",
      "  (fc1): Linear(in_features=400, out_features=120, bias=True)\n",
      "  (fc2): Linear(in_features=120, out_features=84, bias=True)\n",
      "  (fc3): Linear(in_features=84, out_features=10, bias=True)\n",
      "  (relu): ReLU()\n",
      "  (logSoftmax): LogSoftmax(dim=1)\n",
      ")\n"
     ]
    }
   ],
   "source": [
    "net= LeNet()\n",
    "print(net)"
   ]
  },
  {
   "cell_type": "code",
   "execution_count": 10,
   "metadata": {
    "id": "yHpE7v5LBMdA"
   },
   "outputs": [],
   "source": [
    "# Define same network for shape print\n",
    "class LeNet1(nn.Module):\n",
    "    def __init__(self):\n",
    "        super(LeNet1, self).__init__()\n",
    "        self.conv1 = nn.Conv2d(1, 6, kernel_size=1)\n",
    "        self.pool1 = nn.MaxPool2d(kernel_size=2,stride=2)\n",
    "        self.conv2 = nn.Conv2d(6, 16, kernel_size=5)\n",
    "        self.pool2 = nn.MaxPool2d(kernel_size=2,stride=2)        \n",
    "        self.fc1 = nn.Linear(400, 120)\n",
    "        self.fc2 = nn.Linear(120, 84)\n",
    "        self.fc3 = nn.Linear(84, 10)\n",
    "        self.relu = nn.ReLU()\n",
    "        self.logSoftmax = nn.LogSoftmax(dim=1)\n",
    "\n",
    "    def forward(self, x):\n",
    "        print(\"Shape of input:\", x.shape)\n",
    "        x = self.conv1(x)\n",
    "        print(\"Shape after 1st Conv:\", x.shape)\n",
    "        x = self.relu(x)\n",
    "        print(\"Shape after 1st ReLu:\", x.shape)\n",
    "        x = self.pool1(x)\n",
    "        print(\"Shape after 1st MaxPool:\", x.shape)\n",
    "        x = self.conv2(x)\n",
    "        print(\"Shape after 2nd Conv:\", x.shape)\n",
    "        x = self.relu(x)\n",
    "        print(\"Shape after 2nd Relu:\", x.shape)\n",
    "        x = self.pool2(x)\n",
    "        print(\"Shape after 2nd MaxPool:\", x.shape)\n",
    "        x = x.view(-1, 400)\n",
    "        print(\"Shape before 1st FC:\", x.shape)\n",
    "        x = self.fc1(x)\n",
    "        print(\"Shape after 1st FC:\", x.shape)\n",
    "        x = self.relu(x)\n",
    "        print(\"Shape after 3rd ReLu:\", x.shape)\n",
    "        x = self.fc2(x)\n",
    "        print(\"Shape after 2nd FC:\", x.shape)\n",
    "        x = self.relu(x)\n",
    "        print(\"Shape after 4th ReLu:\", x.shape)\n",
    "        x = self.fc3(x)\n",
    "        print(\"Shape after 3rd FC:\", x.shape)\n",
    "        return self.logSoftmax(x)"
   ]
  },
  {
   "cell_type": "code",
   "execution_count": 11,
   "metadata": {
    "id": "Xx2bLAlwBMdC"
   },
   "outputs": [
    {
     "name": "stdout",
     "output_type": "stream",
     "text": [
      "Shape of input: torch.Size([1, 1, 28, 28])\n",
      "Shape after 1st Conv: torch.Size([1, 6, 28, 28])\n",
      "Shape after 1st ReLu: torch.Size([1, 6, 28, 28])\n",
      "Shape after 1st MaxPool: torch.Size([1, 6, 14, 14])\n",
      "Shape after 2nd Conv: torch.Size([1, 16, 10, 10])\n",
      "Shape after 2nd Relu: torch.Size([1, 16, 10, 10])\n",
      "Shape after 2nd MaxPool: torch.Size([1, 16, 5, 5])\n",
      "Shape before 1st FC: torch.Size([1, 400])\n",
      "Shape after 1st FC: torch.Size([1, 120])\n",
      "Shape after 3rd ReLu: torch.Size([1, 120])\n",
      "Shape after 2nd FC: torch.Size([1, 84])\n",
      "Shape after 4th ReLu: torch.Size([1, 84])\n",
      "Shape after 3rd FC: torch.Size([1, 10])\n"
     ]
    },
    {
     "data": {
      "text/plain": [
       "tensor([[-2.4509, -2.3861, -2.2688, -2.2979, -2.3943, -2.3823, -2.1718, -2.2912,\n",
       "         -2.1696, -2.2540]], grad_fn=<LogSoftmaxBackward0>)"
      ]
     },
     "execution_count": 11,
     "metadata": {},
     "output_type": "execute_result"
    }
   ],
   "source": [
    "net1= LeNet1()\n",
    "#print(net1)\n",
    "image = image.reshape(1,1,28,28)# To maintain the input shape of the network\n",
    "net1(image)\n",
    "#torch.argmax(net1(image),dim=1)"
   ]
  },
  {
   "cell_type": "code",
   "execution_count": 12,
   "metadata": {
    "id": "2qriKm7GBMdE"
   },
   "outputs": [
    {
     "name": "stdout",
     "output_type": "stream",
     "text": [
      "GPU is not available!\n"
     ]
    }
   ],
   "source": [
    "# Check availability of GPU\n",
    "use_gpu = torch.cuda.is_available()\n",
    "if use_gpu:\n",
    "    print('GPU is available!')\n",
    "    device = \"cuda\"\n",
    "else:\n",
    "    print('GPU is not available!')\n",
    "    device = \"cpu\"\n",
    "\n",
    "net = net.to(device)"
   ]
  },
  {
   "cell_type": "code",
   "execution_count": 13,
   "metadata": {
    "id": "TKvgsDpAkpgr"
   },
   "outputs": [
    {
     "name": "stdout",
     "output_type": "stream",
     "text": [
      "Epoch 1/20 : Training loss: 2.3074 | Training Accuracy: 9.7367\n",
      "Epoch 2/20 : Training loss: 2.2800 | Training Accuracy: 18.9100\n",
      "Epoch 3/20 : Training loss: 2.2353 | Training Accuracy: 29.3733\n",
      "Epoch 4/20 : Training loss: 2.1413 | Training Accuracy: 34.8500\n",
      "Epoch 5/20 : Training loss: 1.9737 | Training Accuracy: 50.2817\n",
      "Epoch 6/20 : Training loss: 1.7299 | Training Accuracy: 49.6483\n",
      "Epoch 7/20 : Training loss: 1.6080 | Training Accuracy: 51.3517\n",
      "Epoch 8/20 : Training loss: 1.8342 | Training Accuracy: 40.2117\n",
      "Epoch 9/20 : Training loss: 1.3158 | Training Accuracy: 57.7083\n",
      "Epoch 10/20 : Training loss: 1.5057 | Training Accuracy: 45.1200\n",
      "Epoch 11/20 : Training loss: 1.3045 | Training Accuracy: 56.3133\n",
      "Epoch 12/20 : Training loss: 1.1121 | Training Accuracy: 69.4833\n",
      "Epoch 13/20 : Training loss: 0.9922 | Training Accuracy: 71.5383\n",
      "Epoch 14/20 : Training loss: 0.9386 | Training Accuracy: 69.2417\n",
      "Epoch 15/20 : Training loss: 0.8660 | Training Accuracy: 70.2450\n",
      "Epoch 16/20 : Training loss: 0.7216 | Training Accuracy: 75.3783\n",
      "Epoch 17/20 : Training loss: 0.6952 | Training Accuracy: 76.2850\n",
      "Epoch 18/20 : Training loss: 0.7274 | Training Accuracy: 74.9350\n",
      "Epoch 19/20 : Training loss: 0.6654 | Training Accuracy: 78.4833\n",
      "Epoch 20/20 : Training loss: 0.6066 | Training Accuracy: 81.0983\n"
     ]
    }
   ],
   "source": [
    "criterion = nn.CrossEntropyLoss() \n",
    "learning_rate = 0.01\n",
    "optimizer = optim.Adam(net.parameters(), lr=learning_rate) # ADAM \n",
    "num_epochs = 20\n",
    "\n",
    "train_loss = []\n",
    "train_acc = []\n",
    "for epoch in range(num_epochs):\n",
    "    \n",
    "    running_loss = 0.0 \n",
    "    running_corr = 0\n",
    "        \n",
    "    for i,data in enumerate(trainLoader):\n",
    "        inputs,labels = data\n",
    "        if use_gpu:\n",
    "            inputs, labels = inputs.to(device),labels.to(device)\n",
    "        # Initializing model gradients to zero\n",
    "        \n",
    "        optimizer.zero_grad() \n",
    "        # Data feed-forward through the network\n",
    "        outputs1 = net(inputs)\n",
    "        # Predicted class is the one with maximum probability\n",
    "        preds1 = torch.argmax(outputs1,dim=1)\n",
    "        # Finding the loss\n",
    "        loss = criterion(outputs1, labels)\n",
    "        # Accumulating the loss for each batch\n",
    "        running_loss += loss \n",
    "        # Accumulate number of correct predictions\n",
    "        running_corr += torch.sum(preds1==labels)    \n",
    "        \n",
    "    totalLoss1 = running_loss/(i+1)\n",
    "    # Calculating gradients\n",
    "    totalLoss1.backward()\n",
    "    # Updating the model parameters\n",
    "    optimizer.step()\n",
    "        \n",
    "    epoch_loss = running_loss.item()/(i+1)   #Total loss for one epoch\n",
    "    epoch_acc = running_corr.item()/60000\n",
    "    \n",
    "    \n",
    "         \n",
    "    train_loss.append(epoch_loss) #Saving the loss over epochs for plotting the graph\n",
    "    train_acc.append(epoch_acc) #Saving the accuracy over epochs for plotting the graph\n",
    "       \n",
    "        \n",
    "    print('Epoch {:.0f}/{:.0f} : Training loss: {:.4f} | Training Accuracy: {:.4f}'.format(epoch+1,num_epochs,epoch_loss,epoch_acc*100))"
   ]
  },
  {
   "cell_type": "code",
   "execution_count": 14,
   "metadata": {
    "id": "GiS_V5PIBMdI"
   },
   "outputs": [
    {
     "data": {
      "text/plain": [
       "tensor([3])"
      ]
     },
     "execution_count": 14,
     "metadata": {},
     "output_type": "execute_result"
    }
   ],
   "source": [
    "torch.argmax(net(image.to(device)),dim=1)"
   ]
  },
  {
   "cell_type": "code",
   "execution_count": 15,
   "metadata": {
    "id": "KJV5K495Hn-o"
   },
   "outputs": [
    {
     "data": {
      "text/plain": [
       "Text(0, 0.5, 'Training')"
      ]
     },
     "execution_count": 15,
     "metadata": {},
     "output_type": "execute_result"
    },
    {
     "data": {
      "image/png": "[encoded data removed]",
      "text/plain": [
       "<Figure size 1080x360 with 2 Axes>"
      ]
     },
     "metadata": {
      "needs_background": "light"
     },
     "output_type": "display_data"
    }
   ],
   "source": [
    "# Plot the curves of tranning loss and training accuracy\n",
    "fig = plt.figure(figsize=[15,5]) \n",
    "plt.subplot(121)\n",
    "plt.plot(range(num_epochs),train_loss,'r-',label='Loss/error') \n",
    "plt.legend(loc='upper right')\n",
    "plt.xlabel('Epochs')\n",
    "plt.ylabel('Training')\n",
    "plt.subplot(122)\n",
    "plt.plot(range(num_epochs),train_acc,'g-',label='Accuracy') \n",
    "plt.legend(loc='upper right')\n",
    "plt.xlabel('Epochs')\n",
    "plt.ylabel('Training')"
   ]
  },
  {
   "cell_type": "markdown",
   "metadata": {
    "id": "zGR6qS5sBMdM"
   },
   "source": [
    "#### Evaluation of trained model"
   ]
  },
  {
   "cell_type": "code",
   "execution_count": 16,
   "metadata": {
    "id": "rxs1v0BcNa7e"
   },
   "outputs": [
    {
     "name": "stdout",
     "output_type": "stream",
     "text": [
      "Testing accuracy =  81.65\n"
     ]
    }
   ],
   "source": [
    "correct_pred=0\n",
    "for data in testLoader:\n",
    "    inputs,labels = data\n",
    "    if use_gpu:\n",
    "        inputs, labels = inputs.to(device),labels.to(device)\n",
    "    # Feedforward test data batch through model\n",
    "    output = net(inputs) \n",
    "    # Predicted class is the one with maximum probability\n",
    "    preds1 = torch.argmax(output,dim=1)\n",
    "    correct_pred += torch.sum(preds1==labels)\n",
    "\n",
    "test_accuracy = correct_pred.item()/10000.0\n",
    "print('Testing accuracy = ',test_accuracy*100) "
   ]
  },
  {
   "cell_type": "code",
   "execution_count": null,
   "metadata": {
    "id": "52VNfHck9HHd"
   },
   "outputs": [],
   "source": []
  }
 ],
 "metadata": {
  "accelerator": "GPU",
  "colab": {
   "private_outputs": true,
   "provenance": []
  },
  "gpuClass": "standard",
  "kernelspec": {
   "display_name": "Python 3 (ipykernel)",
   "language": "python",
   "name": "python3"
  },
  "language_info": {
   "codemirror_mode": {
    "name": "ipython",
    "version": 3
   },
   "file_extension": ".py",
   "mimetype": "text/x-python",
   "name": "python",
   "nbconvert_exporter": "python",
   "pygments_lexer": "ipython3",
   "version": "3.9.7"
  },
  "vscode": {
   "interpreter": {
    "hash": "1bc3bbbe5f53ad25d170f74cc28082fcc8790e005df27e5bb68986976a08031e"
   }
  }
 },
 "nbformat": 4,
 "nbformat_minor": 1
}
